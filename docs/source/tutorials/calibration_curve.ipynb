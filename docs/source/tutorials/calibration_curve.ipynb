{
 "cells": [
  {
   "cell_type": "markdown",
   "metadata": {},
   "source": [
    "# Generating a Calibration Curve\n",
    "\n",
    "Notebook Code: [![License: MIT](https://img.shields.io/badge/License-GPLv3-blue.svg)](https://www.gnu.org/licenses/gpl-3.0) Notebook Prose: [![License: CC BY 4.0](https://img.shields.io/badge/License-CC_BY_4.0-lightgrey.svg)](https://creativecommons.org/licenses/by/4.0/)\n",
    "\n",
    "---"
   ]
  },
  {
   "cell_type": "code",
   "execution_count": 9,
   "metadata": {},
   "outputs": [],
   "source": [
    "import glob as glob\n",
    "import pandas as pd \n",
    "import matplotlib.pyplot as plt \n",
    "import seaborn as sns \n",
    "from hplc.quant import Chromatogram\n",
    "sns.set()"
   ]
  },
  {
   "cell_type": "code",
   "execution_count": 10,
   "metadata": {},
   "outputs": [
    {
     "data": {
      "text/plain": [
       "['./data/calibration_curve/glucose_0.8mM_lactose_4.0mM.txt',\n",
       " './data/calibration_curve/glucose_0.3mM_lactose_1.0mM.txt',\n",
       " './data/calibration_curve/glucose_0.1mM_lactose_0.1mM.txt',\n",
       " './data/calibration_curve/glucose_0.5mM_lactose_2.0mM.txt',\n",
       " './data/calibration_curve/glucose_0.4mM_lactose_1.5mM.txt',\n",
       " './data/calibration_curve/glucose_0.2mM_lactose_0.5mM.txt',\n",
       " './data/calibration_curve/glucose_0.6mM_lactose_3.0mM.txt',\n",
       " './data/calibration_curve/glucose_1.0mM_lactose_5.0mM.txt']"
      ]
     },
     "execution_count": 10,
     "metadata": {},
     "output_type": "execute_result"
    }
   ],
   "source": [
    "files = glob.glob('./data/calibration_curve/glucose*lactose*.txt')\n",
    "files"
   ]
  },
  {
   "cell_type": "code",
   "execution_count": 13,
   "metadata": {},
   "outputs": [
    {
     "data": {
      "text/plain": [
       "[<Figure size 640x480 with 1 Axes>, <Axes: xlabel='time', ylabel='signal'>]"
      ]
     },
     "execution_count": 13,
     "metadata": {},
     "output_type": "execute_result"
    },
    {
     "data": {
      "image/png": "[encoded data removed]",
      "text/plain": [
       "<Figure size 640x480 with 1 Axes>"
      ]
     },
     "metadata": {
      "needs_background": "light"
     },
     "output_type": "display_data"
    }
   ],
   "source": [
    "df = pd.read_csv(files[0])\n",
    "chrom = Chromatogram(df)\n",
    "chrom.show()"
   ]
  },
  {
   "cell_type": "code",
   "execution_count": 17,
   "metadata": {},
   "outputs": [
    {
     "data": {
      "text/plain": [
       "Chromatogram:\n",
       "\t✓ Cropped (t: 12.0 - 20.0)\n",
       "\t✓ Baseline Subtracted"
      ]
     },
     "execution_count": 17,
     "metadata": {},
     "output_type": "execute_result"
    }
   ],
   "source": [
    "chrom.crop([12, 20])\n",
    "chrom"
   ]
  },
  {
   "cell_type": "code",
   "execution_count": 19,
   "metadata": {},
   "outputs": [
    {
     "name": "stderr",
     "output_type": "stream",
     "text": [
      "Deconvolving mixture: 100%|██████████| 1/1 [00:00<00:00, 46.23it/s]\n"
     ]
    },
    {
     "data": {
      "text/html": [
       "<div>\n",
       "<style scoped>\n",
       "    .dataframe tbody tr th:only-of-type {\n",
       "        vertical-align: middle;\n",
       "    }\n",
       "\n",
       "    .dataframe tbody tr th {\n",
       "        vertical-align: top;\n",
       "    }\n",
       "\n",
       "    .dataframe thead th {\n",
       "        text-align: right;\n",
       "    }\n",
       "</style>\n",
       "<table border=\"1\" class=\"dataframe\">\n",
       "  <thead>\n",
       "    <tr style=\"text-align: right;\">\n",
       "      <th></th>\n",
       "      <th>retention_time</th>\n",
       "      <th>scale</th>\n",
       "      <th>skew</th>\n",
       "      <th>amplitude</th>\n",
       "      <th>area</th>\n",
       "      <th>peak_id</th>\n",
       "    </tr>\n",
       "  </thead>\n",
       "  <tbody>\n",
       "    <tr>\n",
       "      <th>0</th>\n",
       "      <td>13.56</td>\n",
       "      <td>0.254407</td>\n",
       "      <td>1.586795</td>\n",
       "      <td>5037.151296</td>\n",
       "      <td>604458.155528</td>\n",
       "      <td>1</td>\n",
       "    </tr>\n",
       "    <tr>\n",
       "      <th>0</th>\n",
       "      <td>15.62</td>\n",
       "      <td>0.269809</td>\n",
       "      <td>1.444712</td>\n",
       "      <td>590.388682</td>\n",
       "      <td>70846.641803</td>\n",
       "      <td>2</td>\n",
       "    </tr>\n",
       "  </tbody>\n",
       "</table>\n",
       "</div>"
      ],
      "text/plain": [
       "   retention_time     scale      skew    amplitude           area  peak_id\n",
       "0           13.56  0.254407  1.586795  5037.151296  604458.155528        1\n",
       "0           15.62  0.269809  1.444712   590.388682   70846.641803        2"
      ]
     },
     "execution_count": 19,
     "metadata": {},
     "output_type": "execute_result"
    }
   ],
   "source": [
    "chrom.fit_peaks()"
   ]
  },
  {
   "cell_type": "code",
   "execution_count": 20,
   "metadata": {},
   "outputs": [
    {
     "data": {
      "text/plain": [
       "Chromatogram:\n",
       "\t✓ Cropped (t: 12.0 - 20.0)\n",
       "\t✓ Baseline Subtracted\n",
       "\t✓ 2 Peak(s) Detected"
      ]
     },
     "execution_count": 20,
     "metadata": {},
     "output_type": "execute_result"
    }
   ],
   "source": [
    "chrom"
   ]
  },
  {
   "cell_type": "code",
   "execution_count": null,
   "metadata": {},
   "outputs": [],
   "source": []
  }
 ],
 "metadata": {
  "kernelspec": {
   "display_name": "base",
   "language": "python",
   "name": "python3"
  },
  "language_info": {
   "codemirror_mode": {
    "name": "ipython",
    "version": 3
   },
   "file_extension": ".py",
   "mimetype": "text/x-python",
   "name": "python",
   "nbconvert_exporter": "python",
   "pygments_lexer": "ipython3",
   "version": "3.10.9"
  },
  "orig_nbformat": 4
 },
 "nbformat": 4,
 "nbformat_minor": 2
}
