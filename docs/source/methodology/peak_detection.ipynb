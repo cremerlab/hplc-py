{
 "cells": [
  {
   "cell_type": "markdown",
   "metadata": {},
   "source": [
    "# Step 2: Detecting Peaks\n",
    "Notebook Code: [![License: MIT](https://img.shields.io/badge/License-GPLv3-blue.svg)](https://www.gnu.org/licenses/gpl-3.0) Notebook Prose: [![License: CC BY 4.0](https://img.shields.io/badge/License-CC_BY_4.0-lightgrey.svg)](https://creativecommons.org/licenses/by/4.0/)\n",
    "\n",
    "---"
   ]
  },
  {
   "cell_type": "markdown",
   "metadata": {},
   "source": [
    "Peak detection is a common problem in time-series analysis. In some cases, they are very easy to spot by eye, but that can be difficult to define mathematically. This is particularly true for signals that are “noisy” or have pronounced variations in their baseline values. There are several Python libraries out there for automatically identifying peaks in time-series data, such as [`findpeaks.py`](https://erdogant.github.io/findpeaks/pages/html/index.html) and [`PeakUtils`](https://peakutils.readthedocs.io/en/latest/). In `hplc-py`, peak detection is executed using the [`scipy.signal`](https://docs.scipy.org/doc/scipy/reference/signal.html) which is very mature and actively maintained. In this notebook, we won’t cover the algorithms used under-the-hood for peak detection, but will outline how `hplc-py` leverages `scipy.signal.find_peaks` and `scipy.signal.peak_widths` to 1) identify peaks in chromatographic data and 2) clip the chromatogram into discrete peak windows which are used in the fitting procedure.\n",
    "\n",
    "## What's in a peak?\n",
    "Peaks are defined by a handful of quantitative properties\n",
    "\n",
    "* **Prominence** defines the relative height of the peak relative to the lowest \n",
    "nearby valley. Peaks with a small prominence are not very large whereas peaks \n",
    "with large prominence values are considered to be tall. \n",
    "* **"
   ]
  },
  {
   "cell_type": "code",
   "execution_count": null,
   "metadata": {
    "vscode": {
     "languageId": "plaintext"
    }
   },
   "outputs": [],
   "source": []
  },
  {
   "cell_type": "code",
   "execution_count": null,
   "metadata": {
    "vscode": {
     "languageId": "plaintext"
    }
   },
   "outputs": [],
   "source": []
  },
  {
   "cell_type": "markdown",
   "metadata": {},
   "source": [
    "---\n",
    "\n",
    "<small> © Griffin Chure, 2023. This notebook and the code within are released under a \n",
    "[Creative-Commons CC-BY 4.0](https://creativecommons.org/licenses/by/4.0/) and \n",
    "[GPLv3](https://www.gnu.org/licenses/gpl-3.0) license, respectively.</small>\n"
   ]
  }
 ],
 "metadata": {
  "language_info": {
   "name": "python"
  },
  "orig_nbformat": 4
 },
 "nbformat": 4,
 "nbformat_minor": 2
}
